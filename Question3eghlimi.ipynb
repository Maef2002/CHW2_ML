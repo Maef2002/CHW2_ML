{
 "cells": [
  {
   "cell_type": "markdown",
   "metadata": {
    "id": "p03hoMY_KC5B"
   },
   "source": [
    "<h1 align=\"center\">An Introduction to Machine Learning - 25737</h1>\n",
    "<h4 align=\"center\">Dr. Sajjad Amini</h4>\n",
    "<h4 align=\"center\">Sharif University of Technology, Spring 2023</h4>\n",
    "\n",
    "**Student Name**:Mohammad Amin Eghlimi\n",
    "\n",
    "**Student ID**:99101173\n",
    "\n",
    "# Linear Regression\n",
    "\n",
    "In this exercise, we want to examine **linear regression**. For this purpose, we have prepared a dataset in the `q1.csv` file. This dataset is used to estimate the **heating load** and **cooling load** of a building based on its parameters. The parameters in this dataset are explained below:\n",
    "\n",
    "- $X_1$: Relative Compactness\n",
    "- $X_2$: Surface Area\n",
    "- $X_3$: Wall Area\n",
    "- $X_4$: Roof Area\n",
    "- $X_5$: Overall Height\n",
    "- $X_6$: Orientation\n",
    "- $X_7$: Glazing Area\n",
    "- $X_8$: Glazing Area Distribution\n",
    "- $Y_1$: Heating Load\n",
    "- $Y_2$: Cooling Load\n",
    "\n",
    "**Note**: For the sake of simplicity, we will only focus on estimating the **heating load** in this problem. Also, please note that we have some inline questions in this notebook, for which you should write your answers in the **Answer** section below each question."
   ]
  },
  {
   "cell_type": "markdown",
   "metadata": {
    "id": "P6_GSec1OXRM"
   },
   "source": [
    "## Importing Libraries\n",
    "\n",
    "First we import libraries that we need for this assignment.\n",
    "\n",
    "**Attention**: You should only use these libraries. Other libraries are not acceptable."
   ]
  },
  {
   "cell_type": "code",
   "execution_count": 141,
   "metadata": {
    "id": "5u7kqX0wONrr"
   },
   "outputs": [],
   "source": [
    "import numpy as np\n",
    "import pandas as pd\n",
    "import matplotlib.pyplot as plt"
   ]
  },
  {
   "cell_type": "markdown",
   "metadata": {
    "id": "9he9c_YvMqAL"
   },
   "source": [
    "## Reading Data and Preprocessing\n",
    "\n",
    "In this section, we want to read data from a CSV file and then preprocess it to make it ready for the rest of the problem.\n",
    "\n",
    "First, we read the data in the cell below and extract an $m \\times n$ matrix, $X$, and an $m \\times 1$ vector, $Y$, from it, which represent our knowledge about the building (`X1`, `X2`, ..., `X8`) and heating load (`Y1`), respectively. Note that by $m$, we mean the number of data points and by $n$, we mean the number of features."
   ]
  },
  {
   "cell_type": "code",
   "execution_count": 142,
   "metadata": {
    "id": "bV10SRSaJ_DJ"
   },
   "outputs": [
    {
     "name": "stdout",
     "output_type": "stream",
     "text": [
      "(768, 8)\n",
      "(768, 1)\n"
     ]
    }
   ],
   "source": [
    "X, Y = None, None\n",
    "\n",
    "### START CODE HERE ###\n",
    "Data = pd.read_csv('q1.csv')\n",
    "X = Data[['X1','X2','X3','X4','X5','X6','X7','X8']]\n",
    "Y = Data[['Y1']]\n",
    "X = np.array(X)\n",
    "Y = np.array(Y)\n",
    "### END CODE HERE ###\n",
    "\n",
    "print(X.shape)\n",
    "print(Y.shape)"
   ]
  },
  {
   "cell_type": "markdown",
   "metadata": {
    "id": "EkZeww-2OAuX"
   },
   "source": [
    "Next, we should normalize our data. For normalizing a vector $\\mathbf{x}$, a very common method is to use this formula:\n",
    "\n",
    "$$\n",
    "\\mathbf{x}_{norm} = \\dfrac{\\mathbf{x} - \\overline{\\mathbf{x}}}{\\sigma_\\mathbf{x}}\n",
    "$$\n",
    "\n",
    "Here, $\\overline{x}$ and $\\sigma_\\mathbf{x}$ denote the mean and standard deviation of vector $\\mathbf{x}$, respectively. Use this formula and store the new $X$ and $Y$ vectors in the cell below.\n",
    "\n",
    "**Question**: Briefly explain why we need to normalize our data before starting the training.\n",
    "\n",
    "**Answer**:Prior to commencing with the training process, it is crucial to properly normalize the data. This important step helps to prevent any particular feature with an excessively large range of values from overriding the learning process, specifically with regard to distance-based algorithms. Furthermore, data normalization can improve the numerical stability and convergence rate of various optimization algorithms, which may underperform when input variables are of different scales. By successfully normalizing the data, all features are brought to the same common scale, and thus optimization algorithms can evaluate them equivalently during the course of learning."
   ]
  },
  {
   "cell_type": "code",
   "execution_count": 143,
   "metadata": {
    "id": "Y2i0bjxUPak2"
   },
   "outputs": [
    {
     "name": "stdout",
     "output_type": "stream",
     "text": [
      "[[9.800e-01 5.145e+02 2.940e+02 ... 2.000e+00 0.000e+00 0.000e+00]\n",
      " [9.800e-01 5.145e+02 2.940e+02 ... 3.000e+00 0.000e+00 0.000e+00]\n",
      " [9.800e-01 5.145e+02 2.940e+02 ... 4.000e+00 0.000e+00 0.000e+00]\n",
      " ...\n",
      " [6.200e-01 8.085e+02 3.675e+02 ... 3.000e+00 4.000e-01 5.000e+00]\n",
      " [6.200e-01 8.085e+02 3.675e+02 ... 4.000e+00 4.000e-01 5.000e+00]\n",
      " [6.200e-01 8.085e+02 3.675e+02 ... 5.000e+00 4.000e-01 5.000e+00]]   [[ 2.04177671 -1.78587489 -0.56195149 ... -1.34164079 -1.76044698\n",
      "  -1.81457514]\n",
      " [ 2.04177671 -1.78587489 -0.56195149 ... -0.4472136  -1.76044698\n",
      "  -1.81457514]\n",
      " [ 2.04177671 -1.78587489 -0.56195149 ...  0.4472136  -1.76044698\n",
      "  -1.81457514]\n",
      " ...\n",
      " [-1.36381225  1.55394308  1.12390297 ... -0.4472136   1.2440492\n",
      "   1.41133622]\n",
      " [-1.36381225  1.55394308  1.12390297 ...  0.4472136   1.2440492\n",
      "   1.41133622]\n",
      " [-1.36381225  1.55394308  1.12390297 ...  1.34164079  1.2440492\n",
      "   1.41133622]]\n"
     ]
    }
   ],
   "source": [
    "### START CODE HERE ###\n",
    "\n",
    "Sigma = np.std(X,axis=0)\n",
    "X_bar = np.mean(X,axis=0)\n",
    "\n",
    "X_norm = (X - X_bar)/Sigma\n",
    "\n",
    "print(X,\" \",X_norm)\n",
    "\n",
    "\n",
    "### END CODE HERE ###"
   ]
  },
  {
   "cell_type": "markdown",
   "metadata": {
    "id": "mvmHQ-mxQzDE"
   },
   "source": [
    "Finally, we should add a column of $1$s at the beginning of $X$ to represent the bias term. Do this in the next cell. Note that after this process, $X$ should be an $m \\times (n+1)$ matrix."
   ]
  },
  {
   "cell_type": "code",
   "execution_count": 144,
   "metadata": {
    "id": "QLfV7VQNRCfF"
   },
   "outputs": [
    {
     "name": "stdout",
     "output_type": "stream",
     "text": [
      "(768, 9)\n"
     ]
    }
   ],
   "source": [
    "### START CODE HERE ###\n",
    "X = np.insert(X_norm, 0, 1, axis=1)\n",
    "### END CODE HERE ###\n",
    "\n",
    "print(X.shape)"
   ]
  },
  {
   "cell_type": "markdown",
   "metadata": {
    "id": "nO--dppbRsdb"
   },
   "source": [
    "## Training Model Using Direct Method\n",
    "\n",
    "We know that the loss function in linear regression is defined as:\n",
    "\n",
    "$$\n",
    "\\mathcal{L}(\\mathbf{w}) = \\frac{1}{m}\\sum_{i=1}^{m}(\\mathbf{w}^\\top\\mathbf{x}_i-y_i)^2\n",
    "$$\n",
    "\n",
    "Here, $w$ is the weight vector and $(x_i, y_i)$ represents the $i$th data point. First, write a function that takes $X$, $Y$, and $w$ as inputs and returns the loss value in the next cell. Note that your implementation should be fully vectorized, meaning that you are not allowed to use any loops in your function and should only use functions prepared in the numpy library."
   ]
  },
  {
   "cell_type": "code",
   "execution_count": 145,
   "metadata": {
    "id": "bSbXtyXCRzD3"
   },
   "outputs": [],
   "source": [
    "def loss(X, Y, w):\n",
    "    '''\n",
    "    X: an m by (n+1) matrix which includes inputs\n",
    "    Y: an m by 1 vector which includes heating loads\n",
    "    w: an (n+1) by 1 weight vector\n",
    "    '''\n",
    "    m, n = X.shape\n",
    "    loss = None\n",
    "    ### START CODE HERE ###\n",
    "    loss = np.sum((np.matmul(X, w) - Y) ** 2) / m\n",
    "    ### END CODE HERE ###\n",
    "    return loss.item()"
   ]
  },
  {
   "cell_type": "markdown",
   "metadata": {
    "id": "VuhSB9zaTfwm"
   },
   "source": [
    "Now, we want to calculate the weight matrix, $w$, using the direct method. By direct method, we mean finding the answer to the optimization problem below directly using linear algebra, without using iterative methods:\n",
    "\n",
    "$$\n",
    "\\min_{w} \\mathcal{L}(w)\n",
    "$$\n",
    "\n",
    "Question: What is the answer to this problem in terms of $X$ and $Y$?\n",
    "\n",
    "Answer: $\\hat{w}_{mle} = (X^T X)^{-1}X^T Y$\n",
    "\n",
    "Now you should implement a function that receives $X$ and $Y$ as input and returns $w$. Note that your implementation should also be fully vectorized."
   ]
  },
  {
   "cell_type": "code",
   "execution_count": 146,
   "metadata": {
    "id": "-gCUK01DT-cW"
   },
   "outputs": [],
   "source": [
    "def direct_method(X, Y):\n",
    "    '''\n",
    "    X: an m by (n+1) matrix which includes inputs\n",
    "    Y: an m by 1 vector which includes heating loads\n",
    "    '''\n",
    "    w = None\n",
    "    ### START CODE HERE ###\n",
    "    w = np.matmul(np.linalg.inv(np.matmul(X.T, X)), np.matmul(X.T, Y))\n",
    "    ### END CODE HERE ###\n",
    "    return w"
   ]
  },
  {
   "cell_type": "markdown",
   "metadata": {
    "id": "thFIeOaSUvlw"
   },
   "source": [
    "Finally, we want to evaluate our loss for this problem. Run the cell below to calculate the loss of your model."
   ]
  },
  {
   "cell_type": "code",
   "execution_count": 147,
   "metadata": {
    "id": "6gGDh11VU8vF"
   },
   "outputs": [
    {
     "name": "stdout",
     "output_type": "stream",
     "text": [
      "loss for this problem using direct method is 8.52693112847569\n"
     ]
    }
   ],
   "source": [
    "w = direct_method(X, Y) # calculating w using direct method\n",
    "\n",
    "print(f\"loss for this problem using direct method is {loss(X, Y, w)}\")"
   ]
  },
  {
   "cell_type": "markdown",
   "metadata": {
    "id": "QaG14YG9VXiS"
   },
   "source": [
    "## Training Model Using Gradient Descent\n",
    "\n",
    "Now, instead of using the direct method to calculate $w$, we want to use the **Gradient Descent** algorithm. We know that in this algorithm, in each iteration, we should update our weight vector with:\n",
    "\n",
    "$$\n",
    "\\mathbf{w}^{(t+1)} = \\mathbf{w}^{(t)} - \\alpha \\nabla \\mathcal{L}(\\mathbf{w}^{(t)})\n",
    "$$\n",
    "\n",
    "Here, $w^{t}$ represents the weight matrix in the $t$th iteration, and $\\alpha$ represents the learning rate.\n",
    "\n",
    "**Question**: Write an expression for $\\nabla\\mathcal{L}(\\mathbf{w})$.\n",
    "\n",
    "**Answer**:$\\frac{2}{m}X^T(X\\mathbf{w}-Y)$\n",
    "\n",
    "Now, write a function that computes the gradient of $\\mathcal{L}(\\mathbf{w})$. This function should receive $X$, $Y$, and $\\mathbf{w}$ as inputs and return an $(n+1) \\times 1$ vector, which represents $\\nabla\\mathcal{L}(\\mathbf{w})$. Note that your implementation should also be **fully vectorized**."
   ]
  },
  {
   "cell_type": "code",
   "execution_count": 148,
   "metadata": {
    "id": "yqVQ-8I-VeVc"
   },
   "outputs": [],
   "source": [
    "def gradient(X, Y, w):\n",
    "    '''\n",
    "  X: an m by (n+1) matrix which includes inputs\n",
    "  Y: an m by 1 vector which includes heating loads\n",
    "  w: an (n+1) by 1 weight vector\n",
    "  '''\n",
    "    m, n = X.shape\n",
    "    grad = None\n",
    "  ### START CODE HERE ###\n",
    "    grad = 2*np.matmul(X.T,np.matmul(X,w)-Y)/m\n",
    "  ### END CODE HERE ###\n",
    "    return grad"
   ]
  },
  {
   "cell_type": "markdown",
   "metadata": {
    "id": "TJP5KaZzXz5K"
   },
   "source": [
    "Now, we are ready to implement the Gradient Descent algorithm. Complete the function below for this purpose. Note that this function receives $X$, $Y$, the learning rate, and the number of iterations as inputs. This function should return two parameters. The first parameter is $\\mathbf{w}$, and the second parameter is a `numpy` array that contains the loss in each iteration. This array is indicated by `loss_history` in the code. Also note that you should initialize $\\mathbf{w}$ with the `randn` function."
   ]
  },
  {
   "cell_type": "code",
   "execution_count": 149,
   "metadata": {
    "id": "qdfNjz5DYgD7"
   },
   "outputs": [],
   "source": [
    "def gradient_descent(X, Y, alpha, num_iter):\n",
    "    '''\n",
    "    X: an m by (n+1) matrix which includes inputs\n",
    "    Y: an m by 1 vector which includes heating loads\n",
    "    alpha: learning rate\n",
    "    num_iter: number of iterations of the algorithm\n",
    "    '''\n",
    "    m, n = X.shape\n",
    "    w, loss_history = None, None \n",
    "    ### START CODE HERE ###\n",
    "    w = np.random.randn(n, 1)  \n",
    "    loss_history = np.zeros((num_iter, 1))  \n",
    "\n",
    "    for i in range(num_iter):\n",
    "        w = w - alpha * gradient(X, Y, w)  \n",
    "        loss_history[i] = np.mean((np.matmul(X, w) - Y) ** 2)\n",
    "    ### END CODE HERE ###\n",
    "    return w, loss_history"
   ]
  },
  {
   "cell_type": "markdown",
   "metadata": {
    "id": "CjGioRweZK9O"
   },
   "source": [
    "Now, run the `gradient_descent` function for 5 different values of the learning rate. Plot the `loss_history` of these 5 different values in the same figure.\n",
    "\n",
    "**Question**: Discuss the effect of the learning rate and find the best value of this parameter.\n",
    "\n",
    "**Answer**:The gradient descent algorithm heavily relies on the chosen learning rate. If the learning rate is too small, the algorithm converges slowly while, if it's too high, the algorithm may fail to converge and even diverge. Thus, it is crucial to select an appropriate learning rate.\n",
    "\n",
    "To determine the optimal learning rate, we observe the plots of the loss_history obtained with different learning rates. Based on our analysis, a learning rate of 0.22 offers the best compromise between the convergence speed and performance.\n",
    "for the problem at hand, we suggest using a learning rate around 0.22 for the best convergence speed and performance"
   ]
  },
  {
   "cell_type": "code",
   "execution_count": 153,
   "metadata": {
    "id": "yMuwbOokZtcL"
   },
   "outputs": [
    {
     "name": "stderr",
     "output_type": "stream",
     "text": [
      "C:\\ProgramData\\Anaconda3\\lib\\site-packages\\numpy\\core\\_methods.py:178: RuntimeWarning: overflow encountered in reduce\n",
      "  ret = umr_sum(arr, axis, dtype, out, keepdims, where=where)\n",
      "C:\\Users\\User\\AppData\\Local\\Temp/ipykernel_8660/4139389033.py:16: RuntimeWarning: overflow encountered in square\n",
      "  loss_history[i] = np.mean((np.matmul(X, w) - Y) ** 2)\n",
      "C:\\ProgramData\\Anaconda3\\lib\\site-packages\\numpy\\core\\_methods.py:178: RuntimeWarning: overflow encountered in reduce\n",
      "  ret = umr_sum(arr, axis, dtype, out, keepdims, where=where)\n",
      "C:\\Users\\User\\AppData\\Local\\Temp/ipykernel_8660/4139389033.py:16: RuntimeWarning: overflow encountered in square\n",
      "  loss_history[i] = np.mean((np.matmul(X, w) - Y) ** 2)\n",
      "C:\\Users\\User\\AppData\\Local\\Temp/ipykernel_8660/4139389033.py:16: RuntimeWarning: overflow encountered in square\n",
      "  loss_history[i] = np.mean((np.matmul(X, w) - Y) ** 2)\n",
      "C:\\Users\\User\\AppData\\Local\\Temp/ipykernel_8660/739137640.py:10: RuntimeWarning: overflow encountered in matmul\n",
      "  grad = 2*np.matmul(X.T,np.matmul(X,w)-Y)/m\n",
      "C:\\Users\\User\\AppData\\Local\\Temp/ipykernel_8660/4139389033.py:16: RuntimeWarning: invalid value encountered in matmul\n",
      "  loss_history[i] = np.mean((np.matmul(X, w) - Y) ** 2)\n",
      "C:\\Users\\User\\AppData\\Local\\Temp/ipykernel_8660/739137640.py:10: RuntimeWarning: invalid value encountered in matmul\n",
      "  grad = 2*np.matmul(X.T,np.matmul(X,w)-Y)/m\n"
     ]
    },
    {
     "data": {
      "image/png": "[encoded data removed]",
      "text/plain": [
       "<Figure size 720x576 with 6 Axes>"
      ]
     },
     "metadata": {
      "needs_background": "light"
     },
     "output_type": "display_data"
    }
   ],
   "source": [
    "### START CODE HERE ###\n",
    "\n",
    "import matplotlib.pyplot as plt\n",
    "\n",
    "learning_rates = [0.01, 0.1, 1, 10, 100, 1000]\n",
    "num_iter = 100\n",
    "\n",
    "# Create subplots\n",
    "fig, axs = plt.subplots(2,3, figsize=(10, 8), sharex=True)\n",
    "fig.suptitle('Loss History for Different Learning Rates')\n",
    "\n",
    "# Run gradient_descent for each learning rate and plot loss history\n",
    "\n",
    "w, loss_history = gradient_descent(X, Y, 0.01, num_iter)\n",
    "axs[0][0].plot(loss_history)\n",
    "axs[0][0].set_ylabel(f'Learning Rate: {0.01}')\n",
    "    \n",
    "w, loss_history = gradient_descent(X, Y, 0.1, num_iter)\n",
    "axs[0][1].plot(loss_history)\n",
    "axs[0][1].set_ylabel(f'Learning Rate: {0.1}')\n",
    "    \n",
    "w, loss_history = gradient_descent(X, Y, 1, num_iter)\n",
    "axs[0][2].plot(loss_history)\n",
    "axs[0][2].set_ylabel(f'Learning Rate: {1}')\n",
    "    \n",
    "w, loss_history = gradient_descent(X, Y, 10, num_iter)\n",
    "axs[1][0].plot(loss_history)\n",
    "axs[1][0].set_ylabel(f'Learning Rate: {10}')\n",
    "    \n",
    "w, loss_history = gradient_descent(X, Y, 100, num_iter)\n",
    "axs[1][1].plot(loss_history)\n",
    "axs[1][1].set_ylabel(f'Learning Rate: {100}')\n",
    "    \n",
    "w, loss_history = gradient_descent(X, Y, 1000, num_iter)\n",
    "axs[1][2].plot(loss_history)\n",
    "axs[1][2].set_ylabel(f'Learning Rate: {1000}')\n",
    "    \n",
    "\n",
    "fig.tight_layout()\n",
    "plt.show()\n",
    "\n",
    "\n",
    "\n",
    "### END CODE HERE ###"
   ]
  },
  {
   "cell_type": "markdown",
   "metadata": {
    "id": "k-lyJhZqZ18d"
   },
   "source": [
    "## Conclusion\n",
    "\n",
    "Compare the answer of two different methods that we used earlier.\n",
    "\n",
    "**Question**: Discuss these two methods and compare them with each other. When is it better to use the direct method, and when is it better to use Gradient Descent?\n",
    "\n",
    "**Answer**:The direct method is a computationally efficient algorithm that provides an exact solution for the weight matrix of linear regression models. Specifically, it calculates the inverse of the matrix $X^TX$ and multiplies it with the matrix product $X^TX$ to obtain the weight matrix. However, one limitation of the direct method is that it can be numerically unstable and computationally expensive when dealing with high-dimensional datasets that have large values or a singular matrix. \n",
    "\n",
    "In contrast, Gradient Descent is a widely used optimization algorithm that can be applied to a wide range of machine learning problems, including linear regression. The Gradient Descent algorithm does not require the matrix inversion and can be used in high-dimensional datasets. However, it is an iterative algorithm that may require more computation than the direct method to converge to the minimum of the loss function. \n",
    "\n",
    "To summarize, the direct method is preferable when the dataset is not very large and the matrix $X^TX$ is invertible. In such cases, the direct method is computationally efficient and provides an exact solution for the weight matrix. However, for large and high-dimensional datasets, Gradient Descent is more appropriate due to its ability to handle large datasets without the need to invert the matrix."
   ]
  },
  {
   "cell_type": "markdown",
   "metadata": {
    "id": "MF15dsmXaUzJ"
   },
   "source": [
    "## (Additional Part) Stochastic Gradient Descent\n",
    "\n",
    "When the number of data points becomes large, calculating the gradient becomes very complicated. In these circumstances, we use **Stochastic Gradient Descent**. In this algorithm, instead of using all of the data points to calculate the gradient, we use only a small number of them. We choose these small number of points randomly in each iteration. Implement this algorithm, and use it to calculate $w$, and then compare the result with the preceding parts."
   ]
  },
  {
   "cell_type": "code",
   "execution_count": 160,
   "metadata": {
    "id": "6cHTQFgOaQBB"
   },
   "outputs": [],
   "source": [
    "def stochastic_gradient_descent(X, Y, k, alpha, num_iter):\n",
    "    '''\n",
    "    X: an m by (n+1) matrix which includes inputs\n",
    "    Y: an m by 1 vector which includes heating loads\n",
    "    k: number of data points used in each iteration\n",
    "    alpha: learning rate\n",
    "    num_iter: number of iterations of the algorithm\n",
    "    '''\n",
    "    m, n = X.shape\n",
    "    w, loss_history = None, None \n",
    "    ### START CODE HERE ###\n",
    "    Y = Y.reshape(-1, 1) \n",
    "    m, n = X.shape\n",
    "    w = np.zeros((n, 1))  # Initialize weights\n",
    "    loss_history = np.zeros((num_iter, 1)) \n",
    "    \n",
    "    for i in range(num_iter):\n",
    "        indices = np.random.choice(m, k, replace=False) \n",
    "        X_batch = X[indices, :]\n",
    "        Y_batch = Y[indices, :]\n",
    "        w = w - alpha * gradient(X_batch, Y_batch, w)  \n",
    "        loss_history[i] = np.mean((np.dot(X_batch, w) - Y_batch) ** 2)\n",
    "    ### END CODE HERE ###\n",
    "    return w, loss_history\n"
   ]
  },
  {
   "cell_type": "code",
   "execution_count": 161,
   "metadata": {},
   "outputs": [
    {
     "name": "stderr",
     "output_type": "stream",
     "text": [
      "C:\\ProgramData\\Anaconda3\\lib\\site-packages\\numpy\\core\\_methods.py:178: RuntimeWarning: overflow encountered in reduce\n",
      "  ret = umr_sum(arr, axis, dtype, out, keepdims, where=where)\n",
      "C:\\Users\\User\\AppData\\Local\\Temp/ipykernel_8660/3267462142.py:22: RuntimeWarning: overflow encountered in square\n",
      "  loss_history[i] = np.mean((np.dot(X_batch, w) - Y_batch) ** 2)\n"
     ]
    },
    {
     "data": {
      "image/png": "[encoded data removed]",
      "text/plain": [
       "<Figure size 720x576 with 6 Axes>"
      ]
     },
     "metadata": {
      "needs_background": "light"
     },
     "output_type": "display_data"
    }
   ],
   "source": [
    "import matplotlib.pyplot as plt\n",
    "\n",
    "\n",
    "learning_rates = [0.01, 0.1, 0.5, 1.0, 10.0]\n",
    "num_iter = 100\n",
    "K = 200  \n",
    "# Create subplots\n",
    "fig, axs = plt.subplots(2,3, figsize=(10, 8), sharex=True)\n",
    "fig.suptitle('Loss History for Different Learning Rates')\n",
    "\n",
    "# Run gradient_descent for each learning rate and plot loss history\n",
    "\n",
    "w, loss_history = stochastic_gradient_descent(X, Y, K, 0.01, num_iter)\n",
    "axs[0][0].plot(loss_history)\n",
    "axs[0][0].set_ylabel(f'Learning Rate: {0.01}')\n",
    "    \n",
    "w, loss_history = stochastic_gradient_descent(X, Y, K, 0.1, num_iter)\n",
    "axs[0][1].plot(loss_history)\n",
    "axs[0][1].set_ylabel(f'Learning Rate: {0.1}')\n",
    "    \n",
    "w, loss_history = stochastic_gradient_descent(X, Y, K, 0.5, num_iter)\n",
    "axs[0][2].plot(loss_history)\n",
    "axs[0][2].set_ylabel(f'Learning Rate: {0.5}')\n",
    "    \n",
    "w, loss_history = stochastic_gradient_descent(X, Y, K, 1, num_iter)\n",
    "axs[1][0].plot(loss_history)\n",
    "axs[1][0].set_ylabel(f'Learning Rate: {1}')\n",
    "    \n",
    "w, loss_history = stochastic_gradient_descent(X, Y, K, 10, num_iter)\n",
    "axs[1][1].plot(loss_history)\n",
    "axs[1][1].set_ylabel(f'Learning Rate: {10}')\n",
    "    \n",
    "\n",
    "fig.text(0.5, 0.04, 'Iteration', ha='center', fontsize=12)\n",
    "\n",
    "\n",
    "fig.text(0.04, 0.5, 'Loss', va='center', rotation='vertical', fontsize=12)\n",
    "\n",
    "fig.tight_layout()\n",
    "\n",
    "plt.show()"
   ]
  },
  {
   "cell_type": "code",
   "execution_count": null,
   "metadata": {},
   "outputs": [],
   "source": []
  }
 ],
 "metadata": {
  "colab": {
   "provenance": []
  },
  "kernelspec": {
   "display_name": "Python 3 (ipykernel)",
   "language": "python",
   "name": "python3"
  },
  "language_info": {
   "codemirror_mode": {
    "name": "ipython",
    "version": 3
   },
   "file_extension": ".py",
   "mimetype": "text/x-python",
   "name": "python",
   "nbconvert_exporter": "python",
   "pygments_lexer": "ipython3",
   "version": "3.9.7"
  }
 },
 "nbformat": 4,
 "nbformat_minor": 1
}
