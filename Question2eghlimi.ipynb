{
 "cells": [
  {
   "cell_type": "markdown",
   "metadata": {
    "id": "un_07izr0mCO"
   },
   "source": [
    "<h1 align=\"center\">An Introduction to Machine Learning - 25737</h1>\n",
    "<h4 align=\"center\">Dr. Sajjad Amini</h4>\n",
    "<h4 align=\"center\">Sharif University of Technology, Spring 2023</h4>\n",
    "\n",
    "**Student Name**:Mohammad Amin Eghlimi\n",
    "\n",
    "**Student ID**:99101173\n",
    "\n",
    "# Effect of Overfitting\n",
    "\n",
    "In this exercise, we want to examine the effect of **overfitting**. As you learned in class, using too many features in training can result in a model with very low loss on the training set but high loss on the validation and test set. For this purpose, we have prepared a dataset in the `q2-train.npy`, `q2-valid.npy`, and `q2-test.npy` files for you. We know that `y` is a polynomial function of `x` in this dataset, meaning that \n",
    "\n",
    "$$\n",
    "y = \\sum_{i=0}^{k}a_ix^i\n",
    "$$\n",
    "\n",
    "However, we do not know the exact value of `k`."
   ]
  },
  {
   "cell_type": "markdown",
   "metadata": {
    "id": "rcSNUeqT158e"
   },
   "source": [
    "## Importing Libraries\n",
    "\n",
    "First, we import the necessary libraries for this assignment. Please note that you should only use these libraries and no other libraries are acceptable."
   ]
  },
  {
   "cell_type": "code",
   "execution_count": 1,
   "metadata": {
    "id": "UitW8b0J0jBa"
   },
   "outputs": [],
   "source": [
    "import numpy as np\n",
    "import matplotlib.pyplot as plt"
   ]
  },
  {
   "cell_type": "markdown",
   "metadata": {
    "id": "Q1x7BaU22F4k"
   },
   "source": [
    "## Reading Data and Preprocessing\n",
    "\n",
    "In this part of the assignment, you should read data from the `.npy` files. The data in `q2-train.npy` file is your training set and should be stored in the `X_train` and `Y_train` variables. Similarly, the data in `q2-valid.npy` file is your validation set, and the data in `q2-test.npy` file is your test set, which should be stored in `X_val`, `Y_val`, `X_test`, and `Y_test` respectively. You can use the `np.load` function to read the `.npy` files."
   ]
  },
  {
   "cell_type": "code",
   "execution_count": 2,
   "metadata": {
    "id": "dDMeq10G2m0U"
   },
   "outputs": [],
   "source": [
    "X_train, Y_train, X_val, Y_val, X_test, Y_test = None, None, None, None, None, None\n",
    "\n",
    "### START CODE HERE ###\n",
    "X_train = np.load('q2-train.npy')[:,0].reshape(-1, 1)\n",
    "Y_train = np.load('q2-train.npy')[:,1].reshape(-1, 1)\n",
    "\n",
    "X_test = np.load('q2-test.npy')[:,0].reshape(-1, 1)\n",
    "Y_test = np.load('q2-test.npy')[:,1].reshape(-1, 1)\n",
    "\n",
    "X_val = np.load('q2-valid.npy')[:,0].reshape(-1, 1)\n",
    "Y_val = np.load('q2-valid.npy')[:,1].reshape(-1, 1)\n",
    "### END CODE HERE ###"
   ]
  },
  {
   "cell_type": "markdown",
   "metadata": {
    "id": "nyXpEfEa3Gw-"
   },
   "source": [
    "To find the best value of `k`, we want to change `k` from 1 to 12 and examine its effect on the validation set, and then choose the right value of `k`. For this purpose, we need to create a matrix with columns equal to $x^0$, $x^1$, $x^2$, ..., $x^k$ for every value of `k`. You can complete the following function to do this job. The function takes an $m \\times 1$ vector `X` containing values of input `x` and returns an $m \\times (k+1)$ matrix that has the properties mentioned above."
   ]
  },
  {
   "cell_type": "code",
   "execution_count": 3,
   "metadata": {
    "id": "DXw2tPO84Ksp"
   },
   "outputs": [],
   "source": [
    "def create_matrix(X, k):\n",
    "    \n",
    "    '''\n",
    "    X: an m by 1 array \n",
    "    '''\n",
    "    new_X = None\n",
    "    ### START CODE HERE ###\n",
    "\n",
    "    new_X = np.column_stack([X**i for i in range(k+1)])\n",
    "    ### END CODE HERE ###\n",
    "    \n",
    "    return new_X"
   ]
  },
  {
   "cell_type": "markdown",
   "metadata": {
    "id": "WCTuye7C5Aq3"
   },
   "source": [
    "## Validate Model\n",
    "\n",
    "Now, we want to train our model for every value of `k`. You can use any of the methods that we used in **Question 1** (gradient descent or direct calculation) for this purpose. The following function trains our model on the training set for a given value of `k`, and then returns the loss on the training set and validation set, as well as the weight vector `w`."
   ]
  },
  {
   "cell_type": "code",
   "execution_count": 4,
   "metadata": {
    "id": "9lfWITgf7yQH"
   },
   "outputs": [],
   "source": [
    "# If you need any other function for training write it here\n",
    "def loss(X, Y, w):\n",
    "    '''\n",
    "    X: an m by (n+1) matrix which includes inputs\n",
    "    Y: an m by 1 vector which includes heating loads\n",
    "    w: an (n+1) by 1 weight vector\n",
    "    '''\n",
    "    m, n = X.shape\n",
    "    loss = None\n",
    "    ### START CODE HERE ###\n",
    "    loss = np.sum((np.matmul(X, w) - Y) ** 2) / m\n",
    "    ### END CODE HERE ###\n",
    "    return loss.item()\n",
    "\n",
    "def direct_method(X, Y):\n",
    "    '''\n",
    "    X: an m by (n+1) matrix which includes inputs\n",
    "    Y: an m by 1 vector which includes heating loads\n",
    "    '''\n",
    "    w = None\n",
    "    ### START CODE HERE ###\n",
    "    w = np.matmul(np.linalg.inv(np.matmul(X.T, X)), np.matmul(X.T, Y))\n",
    "    ### END CODE HERE ###\n",
    "    return w\n",
    "# (like gradient descent or anything else)"
   ]
  },
  {
   "cell_type": "code",
   "execution_count": null,
   "metadata": {},
   "outputs": [],
   "source": []
  },
  {
   "cell_type": "code",
   "execution_count": 5,
   "metadata": {
    "id": "JaIs631q508z"
   },
   "outputs": [],
   "source": [
    "def train(X_train, Y_train, X_val, Y_val, k):\n",
    "    '''\n",
    "    X_train: an m_train by 1 vector contains training points\n",
    "    Y_train: an m_train by 1 vector contains training values\n",
    "    X_val: an m_val by 1 vector contains validation points\n",
    "    Y_val: an m_val by 1 vector contains validation values\n",
    "    k: degree of polynomial\n",
    "    '''\n",
    "    w, loss_train, loss_val = None, None, None\n",
    "    ### START CODE HERE ###\n",
    "    X_train_matrix = create_matrix(X_train, k)\n",
    "    X_val_matrix = create_matrix(X_val, k)\n",
    "    w = direct_method(X_train_matrix, Y_train)\n",
    "    loss_train = loss(X_train_matrix, Y_train, w)\n",
    "    loss_val = loss(X_val_matrix, Y_val, w)\n",
    "    ### END CODE HERE ###\n",
    "    return w, loss_train, loss_val"
   ]
  },
  {
   "cell_type": "markdown",
   "metadata": {
    "id": "eAsZfxCu6YEf"
   },
   "source": [
    "In the cell below, you can change the value of `k` between 1 and 12 and plot the loss on the training and validation set as a function of `k` in the same plot.\n",
    "\n",
    "**Question**: Discuss about the effect of $k$.\n",
    "\n",
    "**Answer**:The degree of the polynomial, denoted by k, has a significant influence on the performance of polynomial regression models. By analyzing the losses on both the training and validation sets as a function of k, we can better understand the effect of k on the model's performance.\n",
    "\n",
    "When k is small, such as k=1, the model may be too simplistic to capture the complexity of the relationship between the input variable x and the output variable y. As a result, the model will achieve high loss on both the training and validation sets, indicating underfitting. Underfitting occurs when the model is not able to generalize well to new data.\n",
    "\n",
    "As k increases, the model becomes more flexible and better at capturing patterns in the training data. Therefore, the training loss decreases. However, if we increase k too much, the model will start to fit the noise and idiosyncrasies of the training set, leading to overfitting. Overfitting refers to a model that is too complex and specialized to fit the training data. Consequently, although the model performs very well on the training set, its performance will deteriorate on the validation set since the model fails to generalize well to new data.\n",
    "\n",
    "The losses of both the training and validation sets over a range of k typically exhibit a U-shaped curve with a minimum validation loss. Initially, both the training and validation losses will decrease, as k increases, and then the validation loss will reach a minimum and start increasing. The optimal value of k is the one that minimizes the validation loss since it represents the best trade-off between underfitting and overfitting. We can identify the optimal value of k by analyzing the plot of losses as a function of k.\n",
    "\n",
    "In conclusion, k is a hyperparameter that plays a crucial role in polynomial regression. A smaller k results in underfitting, while a larger k leads to overfitting. Therefore, selecting the optimal value of k is critical in balancing model complexity and generalization for the best performance."
   ]
  },
  {
   "cell_type": "code",
   "execution_count": 19,
   "metadata": {
    "id": "knUTXtOv66Wx"
   },
   "outputs": [
    {
     "data": {
      "image/png": "[encoded data removed]",
      "text/plain": [
       "<Figure size 432x288 with 2 Axes>"
      ]
     },
     "metadata": {
      "needs_background": "light"
     },
     "output_type": "display_data"
    }
   ],
   "source": [
    "### START CODE HERE ###\n",
    "import matplotlib.pyplot as plt\n",
    "# Create subplots\n",
    "fig, (ax1, ax2) = plt.subplots(1, 2)\n",
    "\n",
    "kv = range(1, 13)\n",
    "loss_t = []\n",
    "loss_v = []\n",
    "\n",
    "for k in kv:\n",
    "    w, loss_train, loss_val = train(X_train, Y_train, X_val, Y_val, k)\n",
    "    loss_t.append(loss_train)\n",
    "    loss_v.append(loss_val)\n",
    "    \n",
    "    \n",
    "ax1.plot(kv, loss_t)\n",
    "ax1.set_ylabel('Training Loss')\n",
    "\n",
    "ax2.plot(kv , loss_v)\n",
    "ax2.set_ylabel('Validation Loss')\n",
    "\n",
    "plt.show()\n",
    "\n",
    "### END CODE HERE ###"
   ]
  },
  {
   "cell_type": "markdown",
   "metadata": {
    "id": "K0M1d2Ez7JLJ"
   },
   "source": [
    "## Evaluating Model\n",
    "\n",
    "In the cell below find the loss of your best model on the test set.\n",
    "\n",
    "**Question**: Why we need test set?\n",
    "\n",
    "**Answer**:importance of having a separate test set to evaluate the performance of machine learning models after training. It notes that without testing on a separate set of data, we cannot accurately measure how well a model generalizes to new data. Using the same data for both training and testing can lead to overfitting and unrealistic estimates of the model's performance."
   ]
  },
  {
   "cell_type": "code",
   "execution_count": 23,
   "metadata": {
    "id": "Ex1P5H0A7emE"
   },
   "outputs": [
    {
     "name": "stdout",
     "output_type": "stream",
     "text": [
      "0.11791424797200493\n"
     ]
    }
   ],
   "source": [
    "### START CODE HERE ###\n",
    "k_best = 8\n",
    "w, train_loss, val_loss = train(X_train, Y_train, X_val, Y_val, k_best)\n",
    "X_t_new = create_matrix(X_test, k_best)\n",
    "t_loss = loss(X_t_new,Y_test,w)\n",
    "print(t_loss)\n",
    "### END CODE HERE ###"
   ]
  },
  {
   "cell_type": "code",
   "execution_count": null,
   "metadata": {},
   "outputs": [],
   "source": []
  }
 ],
 "metadata": {
  "colab": {
   "provenance": []
  },
  "kernelspec": {
   "display_name": "Python 3 (ipykernel)",
   "language": "python",
   "name": "python3"
  },
  "language_info": {
   "codemirror_mode": {
    "name": "ipython",
    "version": 3
   },
   "file_extension": ".py",
   "mimetype": "text/x-python",
   "name": "python",
   "nbconvert_exporter": "python",
   "pygments_lexer": "ipython3",
   "version": "3.9.7"
  }
 },
 "nbformat": 4,
 "nbformat_minor": 1
}
